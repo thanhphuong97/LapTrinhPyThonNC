{
  "nbformat": 4,
  "nbformat_minor": 0,
  "metadata": {
    "colab": {
      "name": "Lab01_Chuong6.ipynb",
      "provenance": [],
      "authorship_tag": "ABX9TyPCFYSF8gR/G9HsKHmC5Vin",
      "include_colab_link": true
    },
    "kernelspec": {
      "name": "python3",
      "display_name": "Python 3"
    },
    "language_info": {
      "name": "python"
    }
  },
  "cells": [
    {
      "cell_type": "markdown",
      "metadata": {
        "id": "view-in-github",
        "colab_type": "text"
      },
      "source": [
        "<a href=\"https://colab.research.google.com/github/thanhphuong97/LapTrinhPyThonNC/blob/main/Lab01/Lab01_Chuong6.ipynb\" target=\"_parent\"><img src=\"https://colab.research.google.com/assets/colab-badge.svg\" alt=\"Open In Colab\"/></a>"
      ]
    },
    {
      "cell_type": "code",
      "metadata": {
        "colab": {
          "base_uri": "https://localhost:8080/"
        },
        "id": "FGh8DPLvsxcA",
        "outputId": "1d55772b-eafe-4bfc-ec75-4442c8126c42"
      },
      "source": [
        "#Câu 1\n",
        "import math\n",
        "print(math.floor(-2.8))\n",
        "print(abs(round(-4.3)))\n",
        "print(math.ceil(math.sin(34.5)))"
      ],
      "execution_count": 1,
      "outputs": [
        {
          "output_type": "stream",
          "name": "stdout",
          "text": [
            "-3\n",
            "4\n",
            "1\n"
          ]
        }
      ]
    },
    {
      "cell_type": "code",
      "metadata": {
        "colab": {
          "base_uri": "https://localhost:8080/"
        },
        "id": "yVzpb9txtHLu",
        "outputId": "20813e34-cb6f-47be-a4d2-1b20fe20183e"
      },
      "source": [
        "#Câu 2\n",
        "import calendar\n",
        "print(help(calendar.isleap))\n",
        "print(calendar.isleap(2016))\n",
        "print(dir(calendar))\n",
        "print(calendar.leapdays(2000, 2050))\n",
        "print(calendar.weekday(2016, 7, 29))"
      ],
      "execution_count": 2,
      "outputs": [
        {
          "output_type": "stream",
          "name": "stdout",
          "text": [
            "Help on function isleap in module calendar:\n",
            "\n",
            "isleap(year)\n",
            "    Return True for leap years, False for non-leap years.\n",
            "\n",
            "None\n",
            "True\n",
            "['Calendar', 'EPOCH', 'FRIDAY', 'February', 'HTMLCalendar', 'IllegalMonthError', 'IllegalWeekdayError', 'January', 'LocaleHTMLCalendar', 'LocaleTextCalendar', 'MONDAY', 'SATURDAY', 'SUNDAY', 'THURSDAY', 'TUESDAY', 'TextCalendar', 'WEDNESDAY', '_EPOCH_ORD', '__all__', '__builtins__', '__cached__', '__doc__', '__file__', '__loader__', '__name__', '__package__', '__spec__', '_colwidth', '_locale', '_localized_day', '_localized_month', '_spacing', 'c', 'calendar', 'datetime', 'day_abbr', 'day_name', 'different_locale', 'error', 'firstweekday', 'format', 'formatstring', 'isleap', 'leapdays', 'main', 'mdays', 'month', 'month_abbr', 'month_name', 'monthcalendar', 'monthlen', 'monthrange', 'nextmonth', 'prcal', 'prevmonth', 'prmonth', 'prweek', 'repeat', 'setfirstweekday', 'sys', 'timegm', 'week', 'weekday', 'weekheader']\n",
            "13\n",
            "4\n"
          ]
        }
      ]
    },
    {
      "cell_type": "code",
      "metadata": {
        "colab": {
          "base_uri": "https://localhost:8080/"
        },
        "id": "ARIKl2oEtHeW",
        "outputId": "c47d8d9b-ec11-4444-e8b2-f246be9afc41"
      },
      "source": [
        "#Câu 3\n",
        "def average(num1: float, num2: float) -> float:\n",
        "  return (num1+num2)/2\n",
        "print(average(10,20))\n",
        "print(average(2.5, 3.0))"
      ],
      "execution_count": 3,
      "outputs": [
        {
          "output_type": "stream",
          "name": "stdout",
          "text": [
            "15.0\n",
            "2.75\n"
          ]
        }
      ]
    }
  ]
}