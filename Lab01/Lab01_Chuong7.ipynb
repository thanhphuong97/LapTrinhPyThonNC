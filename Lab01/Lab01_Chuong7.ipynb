{
  "nbformat": 4,
  "nbformat_minor": 0,
  "metadata": {
    "colab": {
      "name": "Lab01_Chuong7.ipynb",
      "provenance": [],
      "authorship_tag": "ABX9TyNVqhC4lVJpHnTQg47PYohO",
      "include_colab_link": true
    },
    "kernelspec": {
      "name": "python3",
      "display_name": "Python 3"
    },
    "language_info": {
      "name": "python"
    }
  },
  "cells": [
    {
      "cell_type": "markdown",
      "metadata": {
        "id": "view-in-github",
        "colab_type": "text"
      },
      "source": [
        "<a href=\"https://colab.research.google.com/github/thanhphuong97/LapTrinhPyThonNC/blob/main/Lab01/Lab01_Chuong7.ipynb\" target=\"_parent\"><img src=\"https://colab.research.google.com/assets/colab-badge.svg\" alt=\"Open In Colab\"/></a>"
      ]
    },
    {
      "cell_type": "code",
      "metadata": {
        "colab": {
          "base_uri": "https://localhost:8080/"
        },
        "id": "O5DiopKMzoGF",
        "outputId": "c05cd1f3-b12a-4756-e915-68c9e637e49f"
      },
      "source": [
        "#Câu 1\n",
        "#a\n",
        "print('hello'.upper())\n",
        "#b\n",
        "print('Happy Birthday!'.lower())\n",
        "#c\n",
        "print('WeeeEEEEeeeEEEEeee'.swapcase())\n",
        "#d\n",
        "print('ABC123'.isupper())\n",
        "#e\n",
        "print('aeiouAEIOU'.count('a'))\n",
        "#f\n",
        "print('hello'.endswith('o'))\n",
        "#g\n",
        "print('hello'.startswith('H'))\n",
        "#h\n",
        "print('Hello {0}'.format('Python'))\n",
        "#i\n",
        "print('Hello {0}! Hello {1}!'.format('Python', 'World'))"
      ],
      "execution_count": 1,
      "outputs": [
        {
          "output_type": "stream",
          "name": "stdout",
          "text": [
            "HELLO\n",
            "happy birthday!\n",
            "wEEEeeeeEEEeeeeEEE\n",
            "True\n",
            "1\n",
            "True\n",
            "False\n",
            "Hello Python\n",
            "Hello Python! Hello World!\n"
          ]
        }
      ]
    },
    {
      "cell_type": "code",
      "metadata": {
        "colab": {
          "base_uri": "https://localhost:8080/"
        },
        "id": "rSWC-pGIz3eH",
        "outputId": "bc8c750f-7d1f-473d-887d-a28ee640e456"
      },
      "source": [
        "#Câu 2\n",
        "'tomato'.count('o')"
      ],
      "execution_count": 2,
      "outputs": [
        {
          "output_type": "execute_result",
          "data": {
            "text/plain": [
              "2"
            ]
          },
          "metadata": {},
          "execution_count": 2
        }
      ]
    },
    {
      "cell_type": "code",
      "metadata": {
        "colab": {
          "base_uri": "https://localhost:8080/"
        },
        "id": "zesfRX4rz3nf",
        "outputId": "a5e8d216-4921-439e-b2fc-72e753c6108b"
      },
      "source": [
        "#Câu 3\n",
        "'tomato'.find('o')"
      ],
      "execution_count": 3,
      "outputs": [
        {
          "output_type": "execute_result",
          "data": {
            "text/plain": [
              "1"
            ]
          },
          "metadata": {},
          "execution_count": 3
        }
      ]
    },
    {
      "cell_type": "code",
      "metadata": {
        "colab": {
          "base_uri": "https://localhost:8080/"
        },
        "id": "Tk4XFJdt0EJG",
        "outputId": "eb7928b0-a9a1-467c-cf12-0b0ab78f82ae"
      },
      "source": [
        "#Câu 4\n",
        "'tomato'.find('o', 'tomato'.find('o') + 1)"
      ],
      "execution_count": 4,
      "outputs": [
        {
          "output_type": "execute_result",
          "data": {
            "text/plain": [
              "5"
            ]
          },
          "metadata": {},
          "execution_count": 4
        }
      ]
    },
    {
      "cell_type": "code",
      "metadata": {
        "colab": {
          "base_uri": "https://localhost:8080/"
        },
        "id": "h7tlD89C0EMg",
        "outputId": "4ca71543-07f9-4842-b1fe-637ecb3a4f53"
      },
      "source": [
        "#Câu 5\n",
        "'avocado'.find('o', 'avocado'.find('o') + 1)"
      ],
      "execution_count": 5,
      "outputs": [
        {
          "output_type": "execute_result",
          "data": {
            "text/plain": [
              "6"
            ]
          },
          "metadata": {},
          "execution_count": 5
        }
      ]
    },
    {
      "cell_type": "code",
      "metadata": {
        "colab": {
          "base_uri": "https://localhost:8080/",
          "height": 35
        },
        "id": "YiMdKllM0OMo",
        "outputId": "55e5476d-a90c-46df-8632-0597de76cc66"
      },
      "source": [
        "#Câu 6\n",
        "'runner'.replace('n', 'b')"
      ],
      "execution_count": 7,
      "outputs": [
        {
          "output_type": "execute_result",
          "data": {
            "application/vnd.google.colaboratory.intrinsic+json": {
              "type": "string"
            },
            "text/plain": [
              "'rubber'"
            ]
          },
          "metadata": {},
          "execution_count": 7
        }
      ]
    },
    {
      "cell_type": "code",
      "metadata": {
        "id": "iiAsr2YQ0cZ9"
      },
      "source": [
        "#Câu 7\n",
        "strip"
      ],
      "execution_count": null,
      "outputs": []
    },
    {
      "cell_type": "code",
      "metadata": {
        "id": "c6BDQ5Bi0cpu"
      },
      "source": [
        "#Câu 8\n",
        "#a. \n",
        "fruit.count('p')\n",
        "fruit.find('p', 3)\n",
        "#b. \n",
        "fruit.upper()\n",
        "'PINEAPPLE'.swapcase()\n",
        "fruit.count('pineapple')\n",
        "#c. \n",
        "fruit.swapcase()\n",
        "fruit.lower()\n",
        "fruit.replace('PINEAPPLE', 'pineapple'"
      ],
      "execution_count": null,
      "outputs": []
    },
    {
      "cell_type": "code",
      "metadata": {
        "id": "YjfQoFhU3QGC"
      },
      "source": [
        "#Câu 9\n",
        "'I love {0}!'.format(season)"
      ],
      "execution_count": null,
      "outputs": []
    },
    {
      "cell_type": "code",
      "metadata": {
        "id": "uc_ax0dv3QIK"
      },
      "source": [
        "#Câu 10\n",
        "'The sides have lengths {0}, {1}, and {2}.'.format(side1, side2, side3)"
      ],
      "execution_count": null,
      "outputs": []
    },
    {
      "cell_type": "code",
      "metadata": {
        "id": "mOjEEu3Y3Wsz"
      },
      "source": [
        "#Câu 11\n",
        "#a.\n",
        "'boolean'.capitalize()\n",
        "#b.\n",
        "'CO2 H2O'.find('2')\n",
        "#c.\n",
        "'CO2 H2O'.find('2', 'CO2 H2O'.find('2') + 1)\n",
        "#d.\n",
        "'Boolean'[0].islower()\n",
        "#e.\n",
        "\"MoNDaY\".lower().capitalize()\n",
        "#f.\n",
        "\" Monday\".lstrip()"
      ],
      "execution_count": null,
      "outputs": []
    }
  ]
}