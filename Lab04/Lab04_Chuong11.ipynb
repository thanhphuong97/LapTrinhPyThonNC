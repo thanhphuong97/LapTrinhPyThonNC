{
  "nbformat": 4,
  "nbformat_minor": 0,
  "metadata": {
    "colab": {
      "name": "Lab04_Chuong11.ipynb",
      "provenance": [],
      "authorship_tag": "ABX9TyMX52X11xkVV05iJfPyrqTS",
      "include_colab_link": true
    },
    "kernelspec": {
      "name": "python3",
      "display_name": "Python 3"
    },
    "language_info": {
      "name": "python"
    }
  },
  "cells": [
    {
      "cell_type": "markdown",
      "metadata": {
        "id": "view-in-github",
        "colab_type": "text"
      },
      "source": [
        "<a href=\"https://colab.research.google.com/github/thanhphuong97/LapTrinhPyThonNC/blob/main/Lab04/Lab04_Chuong11.ipynb\" target=\"_parent\"><img src=\"https://colab.research.google.com/assets/colab-badge.svg\" alt=\"Open In Colab\"/></a>"
      ]
    },
    {
      "cell_type": "code",
      "metadata": {
        "colab": {
          "base_uri": "https://localhost:8080/"
        },
        "id": "aUWsg5KSeDc-",
        "outputId": "bc0859e3-ea53-45fc-dfb8-6d26a8587904"
      },
      "source": [
        "#Bài 1\n",
        "def find_dups(L):\n",
        "    elem_set = set()\n",
        "    dups_set = set()\n",
        "    for entry in L:\n",
        "        len_initial = len(elem_set)\n",
        "        elem_set.add(entry)\n",
        "        len_after = len(elem_set)\n",
        "        if len_initial == len_after:\n",
        "            dups_set.add(entry)\n",
        "    return(dups_set)\n",
        "list_integers = [1,1,2,2,3,3,4,5,6,7,8,9]\n",
        "find_dups(list_integers)"
      ],
      "execution_count": 2,
      "outputs": [
        {
          "output_type": "execute_result",
          "data": {
            "text/plain": [
              "{1, 2, 3}"
            ]
          },
          "metadata": {},
          "execution_count": 2
        }
      ]
    },
    {
      "cell_type": "code",
      "metadata": {
        "colab": {
          "base_uri": "https://localhost:8080/"
        },
        "id": "L1S62Mw9eOeA",
        "outputId": "73c6a8e1-1cbf-4997-94e8-92126035e435"
      },
      "source": [
        "#Bài 2\n",
        "def read_molecule(reader):\n",
        "    \n",
        "    line = reader.readline()\n",
        "    if not line:\n",
        "        return None\n",
        "\n",
        "    key, name = line.split()\n",
        "\n",
        "    molecule = [name]\n",
        "    line = reader.readline()\n",
        "    \n",
        "   \n",
        "    while not line.startswith('END'):\n",
        "        key, num, atom_type, x, y, z = line.split()\n",
        "        molecule.append([atom_type, x, y, z])\n",
        "        line = reader.readline()\n",
        "    return molecule\n",
        "\n",
        "def read_all_molecules(reader):\n",
        "    result = []\n",
        "    reading = True\n",
        "    while reading:\n",
        "        molecule = read_molecule(reader)\n",
        "        if molecule: \n",
        "            result.append(molecule)\n",
        "        else:\n",
        "            reading = False\n",
        "    return result\n",
        "if __name__ == \"__main__\":\n",
        "    molecule_file = open('multimol.txt','r')\n",
        "    molecules = read_all_molecules(molecule_file)\n",
        "    print(molecules)"
      ],
      "execution_count": 11,
      "outputs": [
        {
          "output_type": "stream",
          "name": "stdout",
          "text": [
            "[['AMMONIA', ['N', '0.257', '-0.363', '0.000'], ['H', '0.257', '0.727', '0.000'], ['H', '0.771', '-0.727', '0.890'], ['H', '0.771', '-0.727', '-0.890']], ['METHANOL', ['C', '-0.748', '-0.015', '0.024'], ['O', '0.558', '0.420', '-0.278'], ['H', '-1.293', '-0.202', '-0.901'], ['H', '-1.263', '0.754', '0.600'], ['H', '-0.699', '-0.934', '0.609'], ['H', '0.716', '1.404', '0.137']]]\n"
          ]
        }
      ]
    },
    {
      "cell_type": "code",
      "metadata": {
        "colab": {
          "base_uri": "https://localhost:8080/"
        },
        "id": "4u8MoMg0eYch",
        "outputId": "677625b9-d4e4-4d51-8057-05b50dfa422c"
      },
      "source": [
        "#Bài 3\n",
        "def mating_pairs(males, females):\n",
        "    try:\n",
        "        pairs = set()\n",
        "        num_gerbils = len(males)\n",
        "        for i in range(num_gerbils):\n",
        "            male = males.pop()\n",
        "            female = females.pop()\n",
        "            pairs.add((male, female),)\n",
        "        return pairs\n",
        "    except:\n",
        "        return print(\"Số lượng Males và Females phải bằng nhau\")\n",
        "males = {'Nam1', 'Nam2', 'Nam3'}\n",
        "females = {'Nu1', 'Nu2', 'Nu3'}\n",
        "mating_pairs(males, females)"
      ],
      "execution_count": 5,
      "outputs": [
        {
          "output_type": "execute_result",
          "data": {
            "text/plain": [
              "{('Nam1', 'Nu1'), ('Nam2', 'Nu3'), ('Nam3', 'Nu2')}"
            ]
          },
          "metadata": {},
          "execution_count": 5
        }
      ]
    },
    {
      "cell_type": "code",
      "metadata": {
        "colab": {
          "base_uri": "https://localhost:8080/"
        },
        "id": "GO5-J2HAeckZ",
        "outputId": "4502b0ff-f438-4a6b-9011-2f2e58a83dfc"
      },
      "source": [
        "#Bài 4 \n",
        "def get_authors(filenames):\n",
        "    authors = set()\n",
        "    for filename in filenames:\n",
        "        for line in open(filename,'r'):\n",
        "            if line.lower().startswith('author'):\n",
        "                author = line[6:].strip()\n",
        "                authors.add(author)\n",
        "    return authors\n",
        "if __name__ == \"__main__\":\n",
        "    list_file = ['PDB_1.txt','PDB_2.txt']\n",
        "    print(get_authors(list_file))"
      ],
      "execution_count": 10,
      "outputs": [
        {
          "output_type": "stream",
          "name": "stdout",
          "text": [
            "{'J.K.Rowling', 'Le Thanh Phuong'}\n"
          ]
        }
      ]
    },
    {
      "cell_type": "code",
      "metadata": {
        "colab": {
          "base_uri": "https://localhost:8080/"
        },
        "id": "DeCbWNNbefg2",
        "outputId": "b9ad6181-49de-44cd-edc0-2ad8bc86ae8a"
      },
      "source": [
        "#Bài 5\n",
        "from typing import Dict\n",
        "def count_values(inDict: Dict) -> int:\n",
        "    \n",
        "    finalList = []\n",
        "\n",
        "    for i in inDict.values():\n",
        "        if i not in finalList:\n",
        "            finalList.append(i)\n",
        "    \n",
        "    return len(finalList)\n",
        "\n",
        "\n",
        "\n",
        "color = {'red':1,'green':1,'blue':2}\n",
        "\n",
        "print(count_values(color))"
      ],
      "execution_count": 6,
      "outputs": [
        {
          "output_type": "stream",
          "name": "stdout",
          "text": [
            "2\n"
          ]
        }
      ]
    },
    {
      "cell_type": "code",
      "metadata": {
        "colab": {
          "base_uri": "https://localhost:8080/"
        },
        "id": "LprAll9Ze4g-",
        "outputId": "f399e1c0-8288-4f39-aa04-e71691f2d81d"
      },
      "source": [
        "#Câu 6\n",
        "from typing import Dict\n",
        "def leastProbable(particleDict: Dict[str, float]) -> str:\n",
        "    minValue = min(particleDict.values())\n",
        "    printValue = ''\n",
        "    for key,value in particleDict.items():\n",
        "        if value == minValue:\n",
        "            return key\n",
        "\n",
        "\n",
        "values = { 'neutron ': 0.55,  'proton ': 0.21,  'meson ': 0.03,  'muon ': 0.07,  'neutrino ': 0.14}\n",
        "print(leastProbable(values))"
      ],
      "execution_count": 7,
      "outputs": [
        {
          "output_type": "stream",
          "name": "stdout",
          "text": [
            "meson \n"
          ]
        }
      ]
    },
    {
      "cell_type": "code",
      "metadata": {
        "colab": {
          "base_uri": "https://localhost:8080/"
        },
        "id": "0Jy9VTLAe6Om",
        "outputId": "7ba6d21f-6841-4caf-9113-622a8082c302"
      },
      "source": [
        "#Câu 7\n",
        "def count_duplicates(inDict) -> int:\n",
        "\n",
        "    lstAllValues = []\n",
        "    lstAdditional = []\n",
        "    lstFinal = []\n",
        "\n",
        "    for i in inDict.values():\n",
        "        lstAllValues.append(i)\n",
        "        lstAdditional.append(i)\n",
        "    \n",
        "    lstFinal = set(lstAllValues).intersection(lstAdditional)\n",
        "\n",
        "    return(len(lstAllValues) - len(lstFinal))\n",
        "\n",
        "\n",
        "number = {'one' : 1, 'two' : 2, 'two1' : 2, 'three1' : 3,'three' : 3}\n",
        "\n",
        "print(count_duplicates(number))"
      ],
      "execution_count": 8,
      "outputs": [
        {
          "output_type": "stream",
          "name": "stdout",
          "text": [
            "2\n"
          ]
        }
      ]
    },
    {
      "cell_type": "code",
      "metadata": {
        "colab": {
          "base_uri": "https://localhost:8080/"
        },
        "id": "YYnungoze9iV",
        "outputId": "fe35bfca-a4ec-455a-dd1a-2ff5b8974cbc"
      },
      "source": [
        "#Bài 8\n",
        "def is_balanced (inDict:[str, float]) -> bool:\n",
        "    \n",
        "    sumVar = 0.0\n",
        "\n",
        "    for i in inDict.values():\n",
        "        sumVar = sumVar + i \n",
        "\n",
        "    return sumVar == 1\n",
        "\n",
        "\n",
        "RGB = {'R' : 0.2 , 'G' : 0.2, 'B' : 0.6}\n",
        "\n",
        "print(is_balanced(RGB))"
      ],
      "execution_count": 12,
      "outputs": [
        {
          "output_type": "stream",
          "name": "stdout",
          "text": [
            "True\n"
          ]
        }
      ]
    },
    {
      "cell_type": "code",
      "metadata": {
        "id": "Q68_xXrMfO0Z"
      },
      "source": [
        "#Bài 9\n",
        "def dict_intersect(inDict, inDict1) -> dict :\n",
        "    \n",
        "    return dict(inDict.items() & inDict1.items())\n",
        "\n",
        "\n",
        "\n",
        "# How to use it :\n",
        "\n",
        "Dictionary0 = {'one' : 1, 'two' : 2 }\n",
        "Dictionary1 = {'one' : 1, 'three' : 2 }\n",
        "\n",
        "print(dict_intersect(Dictionary0,Dictionary1))"
      ],
      "execution_count": null,
      "outputs": []
    },
    {
      "cell_type": "code",
      "metadata": {
        "id": "ANFwjYIcfZZi"
      },
      "source": [
        "#Câu 11\n",
        "def db_consistent(inDict):\n",
        "    innerDictKeys = []\n",
        "\n",
        "    for outerKey in inDict:\n",
        "        tempKeys = list(inDict[outerKey].keys())\n",
        "        tempKeys.sort()\n",
        "        innerDictKeys.append(tempKeys)\n",
        "\n",
        "    for i in range(1,len(innerDictKeys)):\n",
        "        if len(innerDictKeys[0]) != len(innerDictKeys[i]):\n",
        "            return False\n",
        "\n",
        "        for j in range(len(innerDictKeys[0])):\n",
        "            if innerDictKeys[0][j] != innerDictKeys[i][j]:\n",
        "                return False\n",
        "\n",
        "    return True\n",
        "print(db_consistent(scientists))"
      ],
      "execution_count": null,
      "outputs": []
    },
    {
      "cell_type": "code",
      "metadata": {
        "id": "7hP90xSOf9o-"
      },
      "source": [
        "#Bài 10\n",
        "def db_headings(inDict):\n",
        "    \n",
        "    keysInner = set()\n",
        "\n",
        "    for key in inDict.keys():\n",
        "        for inKey in inDict[key]:\n",
        "            keysInner.add(inKey)\n",
        "    \n",
        "    return keysInner\n",
        "\n",
        "\n",
        "print(db_headings(scientists.txt))"
      ],
      "execution_count": null,
      "outputs": []
    }
  ]
}