{
  "nbformat": 4,
  "nbformat_minor": 0,
  "metadata": {
    "colab": {
      "name": "Lab02_Chuong8.ipynb",
      "provenance": [],
      "authorship_tag": "ABX9TyM6ctDZo9nSHwTv80D/nh4r",
      "include_colab_link": true
    },
    "kernelspec": {
      "name": "python3",
      "display_name": "Python 3"
    },
    "language_info": {
      "name": "python"
    }
  },
  "cells": [
    {
      "cell_type": "markdown",
      "metadata": {
        "id": "view-in-github",
        "colab_type": "text"
      },
      "source": [
        "<a href=\"https://colab.research.google.com/github/thanhphuong97/LapTrinhPyThonNC/blob/main/Lab02/Lab02_Chuong8.ipynb\" target=\"_parent\"><img src=\"https://colab.research.google.com/assets/colab-badge.svg\" alt=\"Open In Colab\"/></a>"
      ]
    },
    {
      "cell_type": "code",
      "metadata": {
        "colab": {
          "base_uri": "https://localhost:8080/"
        },
        "id": "I9BaNTYLUn6g",
        "outputId": "a57ae1ab-ed76-4721-fbbf-f54d5448163f"
      },
      "source": [
        "#Bài 1\n",
        "kingdoms =['Bacteria', 'Protozoa', 'Chromista','Plantae', 'Fungi','Animalia']\n",
        "#câu a\n",
        "print(kingdoms[0])\n",
        "#câu b\n",
        "print(kingdoms[5])\n",
        "#câu c\n",
        "print(kingdoms[:3])\n",
        "#câu d\n",
        "print(kingdoms[2:5])\n",
        "#câu e\n",
        "print(kingdoms[4:])\n",
        "#câu f\n",
        "print(kingdoms[1:0])"
      ],
      "execution_count": 1,
      "outputs": [
        {
          "output_type": "stream",
          "name": "stdout",
          "text": [
            "Bacteria\n",
            "Animalia\n",
            "['Bacteria', 'Protozoa', 'Chromista']\n",
            "['Chromista', 'Plantae', 'Fungi']\n",
            "['Fungi', 'Animalia']\n",
            "[]\n"
          ]
        }
      ]
    },
    {
      "cell_type": "code",
      "metadata": {
        "id": "c9HghjEaV3AQ"
      },
      "source": [
        ""
      ],
      "execution_count": null,
      "outputs": []
    },
    {
      "cell_type": "code",
      "metadata": {
        "colab": {
          "base_uri": "https://localhost:8080/"
        },
        "id": "Qu__milnV3Jj",
        "outputId": "82ae7ab0-8dc0-4906-90a2-417424e2a6fa"
      },
      "source": [
        "#Bài 2\n",
        "kingdoms =['Bacteria', 'Protozoa', 'Chromista','Plantae', 'Fungi','Animalia']\n",
        "#câu a\n",
        "print(kingdoms[-6])\n",
        "#câu b\n",
        "print(kingdoms[-1])\n",
        "#câu c\n",
        "print(kingdoms[-6:-3])\n",
        "#câu d\n",
        "print(kingdoms[-4:-1])\n",
        "#câu e\n",
        "print(kingdoms[-2:])\n",
        "#câu f\n",
        "print(kingdoms[-1:-2])"
      ],
      "execution_count": 2,
      "outputs": [
        {
          "output_type": "stream",
          "name": "stdout",
          "text": [
            "Bacteria\n",
            "Animalia\n",
            "['Bacteria', 'Protozoa', 'Chromista']\n",
            "['Chromista', 'Plantae', 'Fungi']\n",
            "['Fungi', 'Animalia']\n",
            "[]\n"
          ]
        }
      ]
    },
    {
      "cell_type": "code",
      "metadata": {
        "colab": {
          "base_uri": "https://localhost:8080/"
        },
        "id": "w5cW2JLgYUeI",
        "outputId": "57033fda-9ea9-4814-e01b-ebf90fa2d9cf"
      },
      "source": [
        "#Bài 3\n",
        "appointments = ['9:00', '10:30', '14:00', '15:00', '15:30']\n",
        "appointments.append('16:30')\n",
        "appointments"
      ],
      "execution_count": 3,
      "outputs": [
        {
          "output_type": "execute_result",
          "data": {
            "text/plain": [
              "['9:00', '10:30', '14:00', '15:00', '15:30', '16:30']"
            ]
          },
          "metadata": {},
          "execution_count": 3
        }
      ]
    },
    {
      "cell_type": "code",
      "metadata": {
        "colab": {
          "base_uri": "https://localhost:8080/"
        },
        "id": "KTQHG1AGYUom",
        "outputId": "eab3ed1b-7190-4164-fcc6-9d77ef9b98cb"
      },
      "source": [
        "#Bài 4\n",
        "ids =[4353, 2314, 2956, 3382, 9362, 3900]\n",
        "#cau a. \n",
        "ids.remove(3382)\n",
        "print(ids)\n",
        "#cau b. \n",
        "ids.index(9362)\n",
        "print(ids)\n",
        "#cau c. \n",
        "ids.insert(ids.index(9362) + 1, 4499)\n",
        "print(ids)\n",
        "#cau d. \n",
        "ids = ids + [5566, 1830]\n",
        "print(ids)\n",
        "#cau e. \n",
        "ids.reverse()\n",
        "print(ids)\n",
        "#cau f. \n",
        "ids.sort()\n",
        "print(ids)"
      ],
      "execution_count": 4,
      "outputs": [
        {
          "output_type": "stream",
          "name": "stdout",
          "text": [
            "[4353, 2314, 2956, 9362, 3900]\n",
            "[4353, 2314, 2956, 9362, 3900]\n",
            "[4353, 2314, 2956, 9362, 4499, 3900]\n",
            "[4353, 2314, 2956, 9362, 4499, 3900, 5566, 1830]\n",
            "[1830, 5566, 3900, 4499, 9362, 2956, 2314, 4353]\n",
            "[1830, 2314, 2956, 3900, 4353, 4499, 5566, 9362]\n"
          ]
        }
      ]
    },
    {
      "cell_type": "code",
      "metadata": {
        "colab": {
          "base_uri": "https://localhost:8080/"
        },
        "id": "UMIM_-Z5YaZb",
        "outputId": "44e189b2-84b6-4218-ae3e-c84e7d8448dd"
      },
      "source": [
        "#Bài 5\n",
        "alkaline_earth_metals = ['metals—beryllium','magnesium', ' calcium',' strontium','barium','radium']\n",
        "#Cau a. \n",
        "alkaline_earth_metals = [4, 12, 20, 38, 56, 88]\n",
        "#Cau b. \n",
        "print(alkaline_earth_metals[5], alkaline_earth_metals[-1])\n",
        "#Cau c. \n",
        "print(len(alkaline_earth_metals))\n",
        "#Cau d. \n",
        "print(max(alkaline_earth_metals))"
      ],
      "execution_count": 5,
      "outputs": [
        {
          "output_type": "stream",
          "name": "stdout",
          "text": [
            "88 88\n",
            "6\n",
            "88\n"
          ]
        }
      ]
    },
    {
      "cell_type": "code",
      "metadata": {
        "colab": {
          "base_uri": "https://localhost:8080/"
        },
        "id": "3m1Eix06Yai6",
        "outputId": "8cb138df-0d8a-4b1b-9f37-e82b6730fe0e"
      },
      "source": [
        "#Bài 6\n",
        "#Cau a. \n",
        "temps = [25.2, 16.8, 31.4, 23.9, 28, 22.5, 19.6]\n",
        "print(temps)\n",
        "#Cau b. \n",
        "temps.sort()\n",
        "print(temps)\n",
        "#Cau c.\n",
        "cool_temps = temps[0:2]\n",
        "print(cool_temps)\n",
        "warm_temps = temps[2:]\n",
        "print(warm_temps)\n",
        "#Cau d. \n",
        "temps_in_celsius = cool_temps + warm_temps\n",
        "print(temps_in_celsius)"
      ],
      "execution_count": 6,
      "outputs": [
        {
          "output_type": "stream",
          "name": "stdout",
          "text": [
            "[25.2, 16.8, 31.4, 23.9, 28, 22.5, 19.6]\n",
            "[16.8, 19.6, 22.5, 23.9, 25.2, 28, 31.4]\n",
            "[16.8, 19.6]\n",
            "[22.5, 23.9, 25.2, 28, 31.4]\n",
            "[16.8, 19.6, 22.5, 23.9, 25.2, 28, 31.4]\n"
          ]
        }
      ]
    },
    {
      "cell_type": "code",
      "metadata": {
        "colab": {
          "base_uri": "https://localhost:8080/"
        },
        "id": "gwDQgtPDYfwR",
        "outputId": "879a115e-35e9-4b4b-d6fe-a56218d48cb9"
      },
      "source": [
        "#Bài 7\n",
        "def same_first_last(L : list ) -> bool:\n",
        "  if len(L) >= 2 and L[0] == L[-1]:\n",
        "    print(True)\n",
        "  else:\n",
        "    print(False)\n",
        "\n",
        "same_first_last([3, 4, 2, 8, 3])\n",
        "same_first_last(['apple', 'banana', 'pear'])\n",
        "same_first_last([4.0, 4.5])"
      ],
      "execution_count": 7,
      "outputs": [
        {
          "output_type": "stream",
          "name": "stdout",
          "text": [
            "True\n",
            "False\n",
            "False\n"
          ]
        }
      ]
    },
    {
      "cell_type": "code",
      "metadata": {
        "colab": {
          "base_uri": "https://localhost:8080/"
        },
        "id": "EiJGDTyQYf6A",
        "outputId": "174a1415-9202-4804-82f0-956d3d8b28a2"
      },
      "source": [
        "#Bài 8\n",
        "def is_longer(L1: list, L2: list) -> bool:\n",
        "  if len(L1) > len(L2):\n",
        "    print(True)\n",
        "  else:\n",
        "    print(False)\n",
        "is_longer([1, 2, 3], [4, 5])\n",
        "is_longer(['abcdef'], ['ab', 'cd', 'ef'])\n",
        "is_longer(['a', 'b', 'c'], [1, 2, 3])"
      ],
      "execution_count": 8,
      "outputs": [
        {
          "output_type": "stream",
          "name": "stdout",
          "text": [
            "True\n",
            "False\n",
            "False\n"
          ]
        }
      ]
    },
    {
      "cell_type": "code",
      "metadata": {
        "id": "ktTrb8pGYlba"
      },
      "source": [
        "#Bài 9\n",
        "values = [0, 1, 2]\n",
        "values[1] = values"
      ],
      "execution_count": null,
      "outputs": []
    },
    {
      "cell_type": "code",
      "metadata": {
        "colab": {
          "base_uri": "https://localhost:8080/"
        },
        "id": "AdwWsH0rYnVZ",
        "outputId": "d79dcf83-0d89-4dd4-a1f1-5fd86301486b"
      },
      "source": [
        "#Bài 10\n",
        "units =[['km', 'miles', 'league'],['kg', 'pound', 'stone']]\n",
        "#a. \n",
        "print(units[0])\n",
        "#b. \n",
        "print(units[-1] or units[1])\n",
        "#c. \n",
        "print(units[0][0])\n",
        "#d. \n",
        "print(units[1][0])\n",
        "#e. \n",
        "print(units[0][1:])\n",
        "#f. \n",
        "print(units[1][0:2])"
      ],
      "execution_count": 9,
      "outputs": [
        {
          "output_type": "stream",
          "name": "stdout",
          "text": [
            "['km', 'miles', 'league']\n",
            "['kg', 'pound', 'stone']\n",
            "km\n",
            "kg\n",
            "['miles', 'league']\n",
            "['kg', 'pound']\n"
          ]
        }
      ]
    },
    {
      "cell_type": "code",
      "metadata": {
        "colab": {
          "base_uri": "https://localhost:8080/"
        },
        "id": "TN-9eMjjYnX1",
        "outputId": "de097df7-d798-4df0-eb8a-4d3ca31c5297"
      },
      "source": [
        "#Bài 11\n",
        "units =[['km', 'miles', 'league'],['kg', 'pound', 'stone']]\n",
        "#a.\n",
        "print(units[-2])\n",
        "#b. \n",
        "print(units[-1])\n",
        "#c. \n",
        "print(units[-2][-3])\n",
        "#d. \n",
        "print(units[-1][-3])\n",
        "#e. \n",
        "print(units[-2][-2:])\n",
        "#f. \n",
        "print(units[-1][:-1])"
      ],
      "execution_count": 10,
      "outputs": [
        {
          "output_type": "stream",
          "name": "stdout",
          "text": [
            "['km', 'miles', 'league']\n",
            "['kg', 'pound', 'stone']\n",
            "km\n",
            "kg\n",
            "['miles', 'league']\n",
            "['kg', 'pound']\n"
          ]
        }
      ]
    }
  ]
}