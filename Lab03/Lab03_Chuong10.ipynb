{
  "nbformat": 4,
  "nbformat_minor": 0,
  "metadata": {
    "colab": {
      "name": "Lab03_Chuong10.ipynb",
      "provenance": [],
      "authorship_tag": "ABX9TyOptGgvKtcrG8uG0/8XFdp3",
      "include_colab_link": true
    },
    "kernelspec": {
      "name": "python3",
      "display_name": "Python 3"
    },
    "language_info": {
      "name": "python"
    }
  },
  "cells": [
    {
      "cell_type": "markdown",
      "metadata": {
        "id": "view-in-github",
        "colab_type": "text"
      },
      "source": [
        "<a href=\"https://colab.research.google.com/github/thanhphuong97/LapTrinhPyThonNC/blob/main/Lab03/Lab03_Chuong10.ipynb\" target=\"_parent\"><img src=\"https://colab.research.google.com/assets/colab-badge.svg\" alt=\"Open In Colab\"/></a>"
      ]
    },
    {
      "cell_type": "code",
      "metadata": {
        "id": "B1b_rfQqfVX_"
      },
      "source": [
        "#Bài 1\n",
        "filename = input('Which file would you like to back-up? ')\n",
        "new_filename = filename + '.bak'\n",
        "backup = open(new_filename, 'w')\n",
        "try:\n",
        "    file = open(filename)\n",
        "    for line in open(filename):\n",
        "        backup.write(line)\n",
        " \n",
        "    backup.close()\n",
        "except IOError:\n",
        "    print('File khong ton tai')\n",
        "print('Xong')"
      ],
      "execution_count": null,
      "outputs": []
    },
    {
      "cell_type": "code",
      "metadata": {
        "colab": {
          "base_uri": "https://localhost:8080/"
        },
        "id": "dABiOrm2fdIN",
        "outputId": "a20f7dac-6f00-49bc-9034-72098864ea45"
      },
      "source": [
        "#Bài 2\n",
        "lablab = []\n",
        "for line in open('lablab.txt'):\n",
        " lablab.append(line.strip().split(' '))\n",
        "print(lablab)"
      ],
      "execution_count": 4,
      "outputs": [
        {
          "output_type": "stream",
          "name": "stdout",
          "text": [
            "[['beryllium', '4', '9.012'], ['magnesium', '12', '24.305'], ['calcium', '20', '20.078'], ['strontium', '38', '87.62'], ['barium', '56', '137.327'], ['radium', '88', '226']]\n"
          ]
        }
      ]
    },
    {
      "cell_type": "code",
      "metadata": {
        "colab": {
          "base_uri": "https://localhost:8080/"
        },
        "id": "wDlmoDMIf1-z",
        "outputId": "627844af-bcfb-4320-8f60-8c4f109da918"
      },
      "source": [
        "#Bài 3\n",
        "content = []\n",
        "for line in open('Phuong.txt'):\n",
        "    content.append(line)\n",
        "print('Doc nguoc file :\\n ',)\n",
        "for line in reversed(content):\n",
        "    print(line)"
      ],
      "execution_count": 5,
      "outputs": [
        {
          "output_type": "stream",
          "name": "stdout",
          "text": [
            "Doc nguoc file :\n",
            " \n",
            "CNTT\n",
            "24\n",
            "\n",
            "TP.HCM\n",
            "\n",
            "Le Thanh Phuong\n",
            "\n"
          ]
        }
      ]
    },
    {
      "cell_type": "code",
      "metadata": {
        "colab": {
          "base_uri": "https://localhost:8080/"
        },
        "id": "iKEN0qrbf5sj",
        "outputId": "bd9378b5-11b8-425c-b36e-1d3fd11e8f47"
      },
      "source": [
        "#Bài 4\n",
        "def skip_header(reader):\n",
        "    \n",
        "    # Read the description line and then the comment lines.\n",
        "    line = reader.readline()    \n",
        "    line = reader.readline()\n",
        "    while line.startswith('#'):\n",
        "        line = reader.readline() \n",
        "    # Now line contains the first real piece of data.\n",
        "    return line\n",
        "\n",
        "def process_file(reader):\n",
        "    # Find the first piece of data.\n",
        "    line = skip_header(reader).strip()\n",
        "    print(line)\n",
        "    # Read the rest of the data.\n",
        "    for line in reader:\n",
        "        line = line.strip()\n",
        "        print(line)\n",
        "\n",
        "input_file = open('Phuong.txt', 'r')\n",
        "process_file(input_file)\n",
        "input_file.close()"
      ],
      "execution_count": 7,
      "outputs": [
        {
          "output_type": "stream",
          "name": "stdout",
          "text": [
            "TP.HCM\n",
            "24\n",
            "CNTT\n"
          ]
        }
      ]
    },
    {
      "cell_type": "code",
      "metadata": {
        "colab": {
          "base_uri": "https://localhost:8080/"
        },
        "id": "RcIZkHsVgBww",
        "outputId": "0ed3d400-88a0-4ed6-c5f5-38b52bd471c3"
      },
      "source": [
        "#Bài 5\n",
        "\n",
        "def smallest_value_skip(reader):\n",
        "    line = skip_header(reader).strip()\n",
        "    # Only execute this code, if there is data following the header.\n",
        "    if line != '':\n",
        "        smallest = line\n",
        "    for line in reader:\n",
        "        line = line.strip()\n",
        "        if line != '-':\n",
        "            value = line\n",
        "            smallest = min(smallest, value)\n",
        "    return smallest\n",
        "\n",
        "input_file = open('Phuong.txt', 'r')\n",
        "print(smallest_value_skip(input_file))\n",
        "input_file.close()"
      ],
      "execution_count": 8,
      "outputs": [
        {
          "output_type": "stream",
          "name": "stdout",
          "text": [
            "24\n"
          ]
        }
      ]
    },
    {
      "cell_type": "code",
      "metadata": {
        "colab": {
          "base_uri": "https://localhost:8080/"
        },
        "id": "OogqSyaNgEhv",
        "outputId": "01a01f3a-0182-47e5-9c70-389c0440309d"
      },
      "source": [
        "#Bài 7\n",
        "def smallest_value_skip2(reader):\n",
        "    line = skip_header(reader).strip()\n",
        "    # Now line contains the first data value; this is also the smallest value\n",
        "    # found so far, because it is the only one we have seen.\n",
        "    smallest = line\n",
        "\n",
        "    for line in reader: \n",
        "        line = line.strip()\n",
        "        if line == '-':\n",
        "            continue\n",
        "\n",
        "    value = line\n",
        "    smallest = min(smallest, value)\n",
        "\n",
        "    return smallest\n",
        "\n",
        "input_file = open('Phuong.txt', 'r')\n",
        "print(smallest_value_skip2(input_file))\n",
        "input_file.close()"
      ],
      "execution_count": 9,
      "outputs": [
        {
          "output_type": "stream",
          "name": "stdout",
          "text": [
            "CNTT\n"
          ]
        }
      ]
    },
    {
      "cell_type": "code",
      "metadata": {
        "id": "Y50fVJVugJlb"
      },
      "source": [
        "def read_molecule(reader):\n",
        "    content = []\n",
        "    for line in reader:\n",
        "        if not line.startswith('CMNT'):\n",
        "            if not line.isspace():\n",
        "                content.append(line.strip())\n",
        "    for line in content:\n",
        "        print(line)\n",
        "    \n",
        "input_file = open('Phuong.pdb', 'r')\n",
        "print(read_molecule(input_file))\n",
        "input_file.close()"
      ],
      "execution_count": null,
      "outputs": []
    }
  ]
}