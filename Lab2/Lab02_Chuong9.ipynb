{
  "nbformat": 4,
  "nbformat_minor": 0,
  "metadata": {
    "colab": {
      "name": "Lab02_Chuong9.ipynb",
      "provenance": [],
      "authorship_tag": "ABX9TyM5tPXVJNVpGzx7NzwkXp8H",
      "include_colab_link": true
    },
    "kernelspec": {
      "name": "python3",
      "display_name": "Python 3"
    },
    "language_info": {
      "name": "python"
    }
  },
  "cells": [
    {
      "cell_type": "markdown",
      "metadata": {
        "id": "view-in-github",
        "colab_type": "text"
      },
      "source": [
        "<a href=\"https://colab.research.google.com/github/thanhphuong97/LapTrinhPyThonNC/blob/main/Lab2/Lab02_Chuong9.ipynb\" target=\"_parent\"><img src=\"https://colab.research.google.com/assets/colab-badge.svg\" alt=\"Open In Colab\"/></a>"
      ]
    },
    {
      "cell_type": "code",
      "metadata": {
        "colab": {
          "base_uri": "https://localhost:8080/"
        },
        "id": "qh-KaEf1SgfS",
        "outputId": "25e34ff4-a2d8-444d-fbc0-5fa7ba61469d"
      },
      "source": [
        "#Bài 1\n",
        "celegans_phenotypes = ['Emb','Him', 'Unc', 'Lon', 'Dpy', 'Sma']\n",
        "for phenotype in celegans_phenotypes:\n",
        " print(phenotype)"
      ],
      "execution_count": 1,
      "outputs": [
        {
          "output_type": "stream",
          "name": "stdout",
          "text": [
            "Emb\n",
            "Him\n",
            "Unc\n",
            "Lon\n",
            "Dpy\n",
            "Sma\n"
          ]
        }
      ]
    },
    {
      "cell_type": "code",
      "metadata": {
        "colab": {
          "base_uri": "https://localhost:8080/"
        },
        "id": "TQj7W3IyTDVL",
        "outputId": "7f430e64-4542-4eab-a712-357373a2048c"
      },
      "source": [
        "#Bài 2\n",
        "half_lives = [87.74, 24110.0,6537.0, 14.4, 376000.0]\n",
        "for value in half_lives:\n",
        " print(value, end=' ')"
      ],
      "execution_count": 2,
      "outputs": [
        {
          "output_type": "stream",
          "name": "stdout",
          "text": [
            "87.74 24110.0 6537.0 14.4 376000.0 "
          ]
        }
      ]
    },
    {
      "cell_type": "code",
      "metadata": {
        "colab": {
          "base_uri": "https://localhost:8080/"
        },
        "id": "khzI4dxgTF83",
        "outputId": "67df6e0a-128c-4e7b-8765-e25504c74b48"
      },
      "source": [
        "#Bài 3\n",
        "whales = [5, 4, 7, 3, 2, 3, 2, 6, 4, 2, 1, 7, 1, 3]\n",
        "more_whales = []\n",
        "for count in whales:\n",
        " more_whales.append(count + 1)\n",
        "print(more_whales)"
      ],
      "execution_count": 3,
      "outputs": [
        {
          "output_type": "stream",
          "name": "stdout",
          "text": [
            "[6, 5, 8, 4, 3, 4, 3, 7, 5, 3, 2, 8, 2, 4]\n"
          ]
        }
      ]
    },
    {
      "cell_type": "code",
      "metadata": {
        "colab": {
          "base_uri": "https://localhost:8080/"
        },
        "id": "gU-Sf0ITTF_L",
        "outputId": "0bcbcbff-554b-4e2e-c7e7-dd899f74e613"
      },
      "source": [
        "#Bài 4\n",
        "#a.\n",
        "alkaline_earth_metals = [[4, 9.012], [12, 24.305],[20, 40.078], [38, 87.62],[56, 137.327], [88, 226]]\n",
        "#b.\n",
        "for inner_list in alkaline_earth_metals:\n",
        " print(\"inner_list[0]\",inner_list[0])\n",
        " print(\"inner_list[1]\",inner_list[1])\n",
        "#c.\n",
        "number_and_weight = []\n",
        "for inner_list in alkaline_earth_metals:\n",
        " number_and_weight.append(inner_list[0])\n",
        " number_and_weight.append(inner_list[1])\n",
        " print(number_and_weight[0])\n",
        " print(number_and_weight[1])"
      ],
      "execution_count": 4,
      "outputs": [
        {
          "output_type": "stream",
          "name": "stdout",
          "text": [
            "inner_list[0] 4\n",
            "inner_list[1] 9.012\n",
            "inner_list[0] 12\n",
            "inner_list[1] 24.305\n",
            "inner_list[0] 20\n",
            "inner_list[1] 40.078\n",
            "inner_list[0] 38\n",
            "inner_list[1] 87.62\n",
            "inner_list[0] 56\n",
            "inner_list[1] 137.327\n",
            "inner_list[0] 88\n",
            "inner_list[1] 226\n",
            "4\n",
            "9.012\n",
            "4\n",
            "9.012\n",
            "4\n",
            "9.012\n",
            "4\n",
            "9.012\n",
            "4\n",
            "9.012\n",
            "4\n",
            "9.012\n"
          ]
        }
      ]
    },
    {
      "cell_type": "code",
      "metadata": {
        "id": "josE60sITGJa"
      },
      "source": [
        "#Bài 5"
      ],
      "execution_count": null,
      "outputs": []
    },
    {
      "cell_type": "code",
      "metadata": {
        "colab": {
          "base_uri": "https://localhost:8080/"
        },
        "id": "DX-bf30xTGLn",
        "outputId": "0e1c91d2-7dc8-4929-e75d-732d590d776e"
      },
      "source": [
        "#Bài 6\n",
        "text = \"\"\n",
        "while text.lower() != \"quit\":\n",
        " text = input(\"Please enter 'QUIT' or 'quit' to exit: \")\n",
        " if text == \"quit\":\n",
        "  print(\"…exiting program\")\n",
        " elif text ==\"QUIT\":\n",
        "   print(\"…exiting program\")\n",
        " else:\n",
        "  print(\"Unknown compound\") "
      ],
      "execution_count": 5,
      "outputs": [
        {
          "output_type": "stream",
          "name": "stdout",
          "text": [
            "Please enter 'QUIT' or 'quit' to exit: quit\n",
            "…exiting program\n"
          ]
        }
      ]
    },
    {
      "cell_type": "code",
      "metadata": {
        "colab": {
          "base_uri": "https://localhost:8080/"
        },
        "id": "VkJKp1hWTd7Y",
        "outputId": "e1ebcbf0-5ac3-4ee7-b872-2cc30bf3ec87"
      },
      "source": [
        "#Bài 7\n",
        "country_populations = [1295, 23, 7, 3, 47, 21]\n",
        "total = 0\n",
        "for population in country_populations:\n",
        " total += population\n",
        "print(total)"
      ],
      "execution_count": 6,
      "outputs": [
        {
          "output_type": "stream",
          "name": "stdout",
          "text": [
            "1396\n"
          ]
        }
      ]
    },
    {
      "cell_type": "code",
      "metadata": {
        "colab": {
          "base_uri": "https://localhost:8080/"
        },
        "id": "kBcE4npoTeFI",
        "outputId": "9e12904a-cae0-467f-afb7-fd3e707694d3"
      },
      "source": [
        "#Bài 8\n",
        "\n",
        "rat_1=[2,3,1,5,7,8,7]\n",
        "rat_2=[3,4,2,6,9,999,88]\n",
        "#a.\n",
        "if rat_1[0] > rat_2[0]:\n",
        " print(\"Rat 1 weighed more than rat 2 on day 1.\")\n",
        "else:\n",
        " print(\"Rat 1 weighed less than rat 2 on day 1.\")\n",
        "#b.\n",
        "if rat_1[0] > rat_2[0] and rat_1[-1] > rat_2[-1]:\n",
        " print(\"Rat 1 remained heavier than Rat 2.\")\n",
        "else:\n",
        " print(\"Rat 2 became heavier than Rat 1.\")\n",
        "#c.\n",
        "if rat_1[0] > rat_2[0]:\n",
        " if rat_1[-1] > rat_2[-1]:\n",
        "  print(\"Rat 1 remained heavier than Rat 2.\")\n",
        " else:\n",
        "  print(\"Rat 2 became heavier than Rat 1.\")\n",
        "else:\n",
        "  print(\"Rat 2 became heavier than Rat 1.\")"
      ],
      "execution_count": 7,
      "outputs": [
        {
          "output_type": "stream",
          "name": "stdout",
          "text": [
            "Rat 1 weighed less than rat 2 on day 1.\n",
            "Rat 2 became heavier than Rat 1.\n",
            "Rat 2 became heavier than Rat 1.\n"
          ]
        }
      ]
    },
    {
      "cell_type": "code",
      "metadata": {
        "colab": {
          "base_uri": "https://localhost:8080/"
        },
        "id": "Yiy6W37XTl3K",
        "outputId": "d9c7496b-cedf-4149-c1bd-e9298e493f44"
      },
      "source": [
        "#Bài 9\n",
        "for number in range(33, 50):\n",
        " print(number)"
      ],
      "execution_count": 8,
      "outputs": [
        {
          "output_type": "stream",
          "name": "stdout",
          "text": [
            "33\n",
            "34\n",
            "35\n",
            "36\n",
            "37\n",
            "38\n",
            "39\n",
            "40\n",
            "41\n",
            "42\n",
            "43\n",
            "44\n",
            "45\n",
            "46\n",
            "47\n",
            "48\n",
            "49\n"
          ]
        }
      ]
    },
    {
      "cell_type": "code",
      "metadata": {
        "colab": {
          "base_uri": "https://localhost:8080/"
        },
        "id": "NePlVDNlTl8p",
        "outputId": "ba09efda-d1ad-4a22-e6e6-072e9a282c42"
      },
      "source": [
        "#Bài 10\n",
        "for number in range(10):\n",
        " print(10 - number, end=' ')"
      ],
      "execution_count": 9,
      "outputs": [
        {
          "output_type": "stream",
          "name": "stdout",
          "text": [
            "10 9 8 7 6 5 4 3 2 1 "
          ]
        }
      ]
    },
    {
      "cell_type": "code",
      "metadata": {
        "colab": {
          "base_uri": "https://localhost:8080/"
        },
        "id": "AJJn_KjlTqvl",
        "outputId": "20b40e3e-41c7-4f47-a9d7-56136d364579"
      },
      "source": [
        "#Bài 11\n",
        "sum = 0\n",
        "count = 0\n",
        "for number in range(2,23):\n",
        " sum += number\n",
        " count += 1\n",
        "average = sum / count\n",
        "print(average)"
      ],
      "execution_count": 10,
      "outputs": [
        {
          "output_type": "stream",
          "name": "stdout",
          "text": [
            "12.0\n"
          ]
        }
      ]
    },
    {
      "cell_type": "code",
      "metadata": {
        "id": "SHqzFDqOTq2g"
      },
      "source": [
        "#Bài 12\n",
        "def remove_neg(num_list):\n",
        " index = 0\n",
        " while index < len(num_list):\n",
        "  if num_list[index] < 0:\n",
        "    del num_list[index]\n",
        "  else:\n",
        "    index += 1"
      ],
      "execution_count": 11,
      "outputs": []
    },
    {
      "cell_type": "code",
      "metadata": {
        "colab": {
          "base_uri": "https://localhost:8080/"
        },
        "id": "ET2gmORITq7U",
        "outputId": "6fea3c77-9a09-4d2a-af46-e875d2702005"
      },
      "source": [
        "#Bài 13\n",
        "for width in range(1, 8):\n",
        " print('T' * width)"
      ],
      "execution_count": 12,
      "outputs": [
        {
          "output_type": "stream",
          "name": "stdout",
          "text": [
            "T\n",
            "TT\n",
            "TTT\n",
            "TTTT\n",
            "TTTTT\n",
            "TTTTTT\n",
            "TTTTTTT\n"
          ]
        }
      ]
    },
    {
      "cell_type": "code",
      "metadata": {
        "colab": {
          "base_uri": "https://localhost:8080/"
        },
        "id": "ms0uE8FoT65c",
        "outputId": "007bc5d3-f913-4526-88a1-bde1c55692bf"
      },
      "source": [
        "#Bài 14\n",
        "for width in range(1, 8):\n",
        " print(' ' * (7 - width), 'T' * width, sep='')"
      ],
      "execution_count": 13,
      "outputs": [
        {
          "output_type": "stream",
          "name": "stdout",
          "text": [
            "      T\n",
            "     TT\n",
            "    TTT\n",
            "   TTTT\n",
            "  TTTTT\n",
            " TTTTTT\n",
            "TTTTTTT\n"
          ]
        }
      ]
    },
    {
      "cell_type": "code",
      "metadata": {
        "colab": {
          "base_uri": "https://localhost:8080/"
        },
        "id": "tU-YUTuBT7DF",
        "outputId": "d6bb8ace-4f7c-4a5f-f82d-e536508dc15e"
      },
      "source": [
        "#Bài 15\n",
        "width = 1\n",
        "while width < 8:\n",
        " print('T' * width)\n",
        " width += 1\n",
        "width = 1\n",
        "while width < 8:\n",
        " print(' ' * (7 - width), 'T' * width, sep='')\n",
        " width += 1"
      ],
      "execution_count": 14,
      "outputs": [
        {
          "output_type": "stream",
          "name": "stdout",
          "text": [
            "T\n",
            "TT\n",
            "TTT\n",
            "TTTT\n",
            "TTTTT\n",
            "TTTTTT\n",
            "TTTTTTT\n",
            "      T\n",
            "     TT\n",
            "    TTT\n",
            "   TTTT\n",
            "  TTTTT\n",
            " TTTTTT\n",
            "TTTTTTT\n"
          ]
        }
      ]
    },
    {
      "cell_type": "code",
      "metadata": {
        "id": "XI6e0SCiUFGs"
      },
      "source": [
        "#Bài 16\n",
        "#a.\n",
        "week = 1\n",
        "while rat_1_weight[week] / rat_1_weight[0] - 1 < .25:\n",
        "  week += 1\n",
        "\n",
        "print(week)\n",
        "#b.\n",
        "week = 0\n",
        "while rat_1_weight[week] / rat_2_weight[week] - 1 < .10:\n",
        " week += 1\n",
        " \n",
        "print(week)"
      ],
      "execution_count": null,
      "outputs": []
    }
  ]
}